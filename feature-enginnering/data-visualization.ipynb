{
 "cells": [
  {
   "cell_type": "code",
   "execution_count": 107,
   "id": "e63d76b4-0dd0-403c-96e6-293108986965",
   "metadata": {},
   "outputs": [],
   "source": [
    "import pandas as pd\n",
    "import numpy as np\n"
   ]
  },
  {
   "cell_type": "code",
   "execution_count": 108,
   "id": "7daa17cc-9558-4702-ad66-34e175a7c58c",
   "metadata": {},
   "outputs": [
    {
     "name": "stdout",
     "output_type": "stream",
     "text": [
      "2\n",
      "<class 'numpy.ndarray'>\n"
     ]
    }
   ],
   "source": [
    "arr_1 = np.array([1, 2, 3, 4, 5])\n",
    "arr_2 = np.array([[1,2,3], [2,3,4], [3,4,5]])\n",
    "print(arr_2.ndim)\n",
    "print(type(arr_2))"
   ]
  },
  {
   "cell_type": "code",
   "execution_count": 109,
   "id": "2c2befe2-6979-4232-80df-2535352c654a",
   "metadata": {},
   "outputs": [
    {
     "name": "stdout",
     "output_type": "stream",
     "text": [
      "110646\n",
      "23441211\n",
      "110646\n",
      "<class 'pandas.core.frame.DataFrame'>\n",
      "[33662, 30120, 23005]\n",
      "['Taka no Tsume 8: Yoshida-kun no X-Files', 'Spoon-hime no Swing Kitchen', 'Mogura no Motoro']\n",
      "<class 'numpy.ndarray'>\n",
      "[['Taka no Tsume 8: Yoshida-kun no X-Files', 'Comedy, Parody'], ['Spoon-hime no Swing Kitchen', 'Adventure, Kids'], ['Mogura no Motoro', 'Slice of Life']]\n"
     ]
    }
   ],
   "source": [
    "## https://www.kaggle.com/datasets/CooperUnion/anime-recommendations-database\n",
    "BASE_PATH = '../dataset/'\n",
    "## dataframe object, which is a two-dimensional table with rows and columns\n",
    "anime_df = pd.read_csv(f'{BASE_PATH}/merged_anime.csv', index_col='anime_id')   ## anime_id,name,genre,type,episodes,rating,members\n",
    "rating_df = pd.read_csv(f'{BASE_PATH}/rating.csv')   ## user_id,anime_id,rating\n",
    "parsed_anime_df = pd.read_csv(f'{BASE_PATH}/merged_anime.csv', index_col='anime_id')\n",
    "\n",
    "print(anime_df.size)\n",
    "print(rating_df.size)\n",
    "print(parsed_anime_df.size)   \n",
    "\n",
    "sorted_df = anime_df.sort_values(by=['rating'], ascending=False)      ## 自带的rating, 但我们马上要自己算\n",
    "print(type(sorted_df))    ## DataFrame\n",
    "# print(sorted_df.iloc[:5])     ## first 5 rows\n",
    "\n",
    "print(sorted_df.iloc[:3].index.to_list())    ## indexes to list\n",
    "print(sorted_df.iloc[:3]['name'].to_list())    ## anime_id list based on column\n",
    "\n",
    "print(type(sorted_df.iloc[:3][['name', 'genre']].values))  ## anime_id list based on column，converts the selected dataframe to a numpy array.\n",
    "print(sorted_df.iloc[:3][['name', 'genre']].values.tolist())  ## converts the selected data to a numpy array => list\n"
   ]
  },
  {
   "cell_type": "code",
   "execution_count": 110,
   "id": "19df8b6c-7f8e-4265-a40d-f9f39fcb0891",
   "metadata": {},
   "outputs": [
    {
     "data": {
      "text/plain": [
       "name               object\n",
       "genre              object\n",
       "type               object\n",
       "episodes           object\n",
       "rating            float64\n",
       "members             int64\n",
       "japanese_title     object\n",
       "aired              object\n",
       "image_url          object\n",
       "dtype: object"
      ]
     },
     "execution_count": 110,
     "metadata": {},
     "output_type": "execute_result"
    }
   ],
   "source": [
    "# 1. 数据格式\n",
    "anime_df.dtypes\n",
    "# rating_df.dtypes"
   ]
  },
  {
   "cell_type": "code",
   "execution_count": 61,
   "id": "222903d7-27e1-4d93-9cd1-f8623f514d93",
   "metadata": {},
   "outputs": [
    {
     "data": {
      "text/plain": [
       "3264"
      ]
     },
     "execution_count": 61,
     "metadata": {},
     "output_type": "execute_result"
    }
   ],
   "source": [
    "# 2. 数据规模\n",
    "# uniq_anime_count = rating_df['anime_id'].nunique()\n",
    "# uniq_anime_count   ## how many anime\n",
    "\n",
    "genre_count = anime_df['genre'].nunique()\n",
    "genre_count"
   ]
  },
  {
   "cell_type": "code",
   "execution_count": 62,
   "id": "05d0b955-a412-45b6-bc5e-a5e3ebe5611c",
   "metadata": {},
   "outputs": [
    {
     "data": {
      "text/plain": [
       "73515"
      ]
     },
     "execution_count": 62,
     "metadata": {},
     "output_type": "execute_result"
    }
   ],
   "source": [
    "uniq_user_count = rating_df['user_id'].nunique()\n",
    "uniq_user_count  ## how many users"
   ]
  },
  {
   "cell_type": "code",
   "execution_count": 63,
   "id": "ca8c918c-018c-47e8-bf97-3f5ab6228e57",
   "metadata": {},
   "outputs": [
    {
     "data": {
      "text/plain": [
       "(7813737, 3)"
      ]
     },
     "execution_count": 63,
     "metadata": {},
     "output_type": "execute_result"
    }
   ],
   "source": [
    "rating_df.shape"
   ]
  },
  {
   "cell_type": "code",
   "execution_count": 64,
   "id": "6c7e282c-9004-4535-9704-504222ed6901",
   "metadata": {},
   "outputs": [],
   "source": [
    "# 3. 数据分布"
   ]
  },
  {
   "cell_type": "code",
   "execution_count": 65,
   "id": "2a897801-1179-4849-a9d0-7857cbeeadf6",
   "metadata": {},
   "outputs": [
    {
     "data": {
      "text/plain": [
       "11"
      ]
     },
     "execution_count": 65,
     "metadata": {},
     "output_type": "execute_result"
    }
   ],
   "source": [
    "uniq_ratings = rating_df['rating'].nunique()\n",
    "uniq_ratings   # 0,1,2---10"
   ]
  },
  {
   "cell_type": "code",
   "execution_count": 66,
   "id": "ce35fce1-88ca-43be-b016-4e87c9e68f37",
   "metadata": {
    "scrolled": true
   },
   "outputs": [
    {
     "data": {
      "text/plain": [
       "<Axes: ylabel='Frequency'>"
      ]
     },
     "execution_count": 66,
     "metadata": {},
     "output_type": "execute_result"
    },
    {
     "data": {
      "image/png": "[encoded data removed]",
      "text/plain": [
       "<Figure size 640x480 with 1 Axes>"
      ]
     },
     "metadata": {},
     "output_type": "display_data"
    }
   ],
   "source": [
    "rating_df['rating'].plot.hist(bins=2*uniq_ratings+1)"
   ]
  },
  {
   "cell_type": "code",
   "execution_count": 72,
   "id": "1b0c904b-e151-4b2e-9c21-597c264347a7",
   "metadata": {},
   "outputs": [
    {
     "data": {
      "text/plain": [
       "count    6.255989e+06\n",
       "mean     7.879972e+00\n",
       "std      1.448561e+00\n",
       "min      4.000000e+00\n",
       "25%      7.000000e+00\n",
       "50%      8.000000e+00\n",
       "75%      9.000000e+00\n",
       "max      1.000000e+01\n",
       "Name: rating, dtype: float64"
      ]
     },
     "execution_count": 72,
     "metadata": {},
     "output_type": "execute_result"
    }
   ],
   "source": [
    "rating_df.query('rating > 0')['rating'].describe()  ## This filters the DataFrame to include only rows where the 'rating' is greater than 3\n",
    "# anime_df.query('rating > 3')['rating'].describe()"
   ]
  },
  {
   "cell_type": "code",
   "execution_count": 98,
   "id": "d103039c-b0fb-439a-be51-9a42e32bc1ad",
   "metadata": {},
   "outputs": [
    {
     "name": "stdout",
     "output_type": "stream",
     "text": [
      "<class 'pandas.core.frame.DataFrame'>\n",
      "<class 'pandas.core.frame.DataFrame'>\n"
     ]
    },
    {
     "data": {
      "text/plain": [
       "6337241"
      ]
     },
     "execution_count": 98,
     "metadata": {},
     "output_type": "execute_result"
    }
   ],
   "source": [
    "valid_rating_df = rating_df[rating_df['rating'] > 0]   ## 6255989\n",
    "print(type(valid_rating_df))\n",
    "print(type(rating_df.query('rating > 0')))   ## dataframe two methods to filter\n",
    "\n",
    "valid_rating_df.shape[0]\n",
    "\n",
    "# rating_df.query('rating > 3')['rating'].shape[0]\n"
   ]
  },
  {
   "cell_type": "code",
   "execution_count": 99,
   "id": "5c38bdc8-52e5-4af9-88a7-61fcef2f90f6",
   "metadata": {},
   "outputs": [
    {
     "data": {
      "text/plain": [
       "<Axes: ylabel='Frequency'>"
      ]
     },
     "execution_count": 99,
     "metadata": {},
     "output_type": "execute_result"
    },
    {
     "data": {
      "image/png": "[encoded data removed]",
      "text/plain": [
       "<Figure size 1200x800 with 1 Axes>"
      ]
     },
     "metadata": {},
     "output_type": "display_data"
    }
   ],
   "source": [
    "### 3.1 每部动漫的评分数\n",
    "rating_groupby_anime = valid_rating_df.groupby(['anime_id']).count()\n",
    "rating_groupby_anime.plot.hist(bins=100, grid=True, figsize=[12, 8], alpha=0.5)"
   ]
  },
  {
   "cell_type": "code",
   "execution_count": 100,
   "id": "ca04cbf7-6530-4a96-a4e2-62ef1af9bb0a",
   "metadata": {},
   "outputs": [
    {
     "data": {
      "text/html": [
       "<div>\n",
       "<style scoped>\n",
       "    .dataframe tbody tr th:only-of-type {\n",
       "        vertical-align: middle;\n",
       "    }\n",
       "\n",
       "    .dataframe tbody tr th {\n",
       "        vertical-align: top;\n",
       "    }\n",
       "\n",
       "    .dataframe thead th {\n",
       "        text-align: right;\n",
       "    }\n",
       "</style>\n",
       "<table border=\"1\" class=\"dataframe\">\n",
       "  <thead>\n",
       "    <tr style=\"text-align: right;\">\n",
       "      <th></th>\n",
       "      <th>user_id</th>\n",
       "      <th>rating</th>\n",
       "    </tr>\n",
       "  </thead>\n",
       "  <tbody>\n",
       "    <tr>\n",
       "      <th>count</th>\n",
       "      <td>9927.000000</td>\n",
       "      <td>9927.000000</td>\n",
       "    </tr>\n",
       "    <tr>\n",
       "      <th>mean</th>\n",
       "      <td>638.384305</td>\n",
       "      <td>638.384305</td>\n",
       "    </tr>\n",
       "    <tr>\n",
       "      <th>std</th>\n",
       "      <td>1795.865541</td>\n",
       "      <td>1795.865541</td>\n",
       "    </tr>\n",
       "    <tr>\n",
       "      <th>min</th>\n",
       "      <td>1.000000</td>\n",
       "      <td>1.000000</td>\n",
       "    </tr>\n",
       "    <tr>\n",
       "      <th>25%</th>\n",
       "      <td>9.000000</td>\n",
       "      <td>9.000000</td>\n",
       "    </tr>\n",
       "    <tr>\n",
       "      <th>50%</th>\n",
       "      <td>57.000000</td>\n",
       "      <td>57.000000</td>\n",
       "    </tr>\n",
       "    <tr>\n",
       "      <th>75%</th>\n",
       "      <td>395.000000</td>\n",
       "      <td>395.000000</td>\n",
       "    </tr>\n",
       "    <tr>\n",
       "      <th>max</th>\n",
       "      <td>34226.000000</td>\n",
       "      <td>34226.000000</td>\n",
       "    </tr>\n",
       "  </tbody>\n",
       "</table>\n",
       "</div>"
      ],
      "text/plain": [
       "            user_id        rating\n",
       "count   9927.000000   9927.000000\n",
       "mean     638.384305    638.384305\n",
       "std     1795.865541   1795.865541\n",
       "min        1.000000      1.000000\n",
       "25%        9.000000      9.000000\n",
       "50%       57.000000     57.000000\n",
       "75%      395.000000    395.000000\n",
       "max    34226.000000  34226.000000"
      ]
     },
     "execution_count": 100,
     "metadata": {},
     "output_type": "execute_result"
    }
   ],
   "source": [
    "rating_groupby_anime.describe()   ## 每个anime的rating数量"
   ]
  },
  {
   "cell_type": "code",
   "execution_count": 101,
   "id": "e7de744a-cc6b-49b0-b5b4-5242b042c5c9",
   "metadata": {},
   "outputs": [
    {
     "data": {
      "text/plain": [
       "<Axes: ylabel='Frequency'>"
      ]
     },
     "execution_count": 101,
     "metadata": {},
     "output_type": "execute_result"
    },
    {
     "data": {
      "image/png": "[encoded data removed]",
      "text/plain": [
       "<Figure size 1200x800 with 1 Axes>"
      ]
     },
     "metadata": {},
     "output_type": "display_data"
    }
   ],
   "source": [
    "### 3.2 每个用户的评分\n",
    "rating_groupby_user = valid_rating_df.groupby(['user_id']).count()    ## 每个user rating的数量\n",
    "rating_groupby_user.plot.hist(bins=100, grid=True, figsize=[12, 8], alpha=0.5)"
   ]
  },
  {
   "cell_type": "code",
   "execution_count": 102,
   "id": "2e7b8b78-112e-45c8-aebf-e76e02ec97df",
   "metadata": {},
   "outputs": [
    {
     "data": {
      "text/html": [
       "<div>\n",
       "<style scoped>\n",
       "    .dataframe tbody tr th:only-of-type {\n",
       "        vertical-align: middle;\n",
       "    }\n",
       "\n",
       "    .dataframe tbody tr th {\n",
       "        vertical-align: top;\n",
       "    }\n",
       "\n",
       "    .dataframe thead th {\n",
       "        text-align: right;\n",
       "    }\n",
       "</style>\n",
       "<table border=\"1\" class=\"dataframe\">\n",
       "  <thead>\n",
       "    <tr style=\"text-align: right;\">\n",
       "      <th></th>\n",
       "      <th>anime_id</th>\n",
       "      <th>rating</th>\n",
       "    </tr>\n",
       "  </thead>\n",
       "  <tbody>\n",
       "    <tr>\n",
       "      <th>count</th>\n",
       "      <td>69600.000000</td>\n",
       "      <td>69600.000000</td>\n",
       "    </tr>\n",
       "    <tr>\n",
       "      <th>mean</th>\n",
       "      <td>91.052313</td>\n",
       "      <td>91.052313</td>\n",
       "    </tr>\n",
       "    <tr>\n",
       "      <th>std</th>\n",
       "      <td>135.764253</td>\n",
       "      <td>135.764253</td>\n",
       "    </tr>\n",
       "    <tr>\n",
       "      <th>min</th>\n",
       "      <td>1.000000</td>\n",
       "      <td>1.000000</td>\n",
       "    </tr>\n",
       "    <tr>\n",
       "      <th>25%</th>\n",
       "      <td>13.000000</td>\n",
       "      <td>13.000000</td>\n",
       "    </tr>\n",
       "    <tr>\n",
       "      <th>50%</th>\n",
       "      <td>45.000000</td>\n",
       "      <td>45.000000</td>\n",
       "    </tr>\n",
       "    <tr>\n",
       "      <th>75%</th>\n",
       "      <td>114.000000</td>\n",
       "      <td>114.000000</td>\n",
       "    </tr>\n",
       "    <tr>\n",
       "      <th>max</th>\n",
       "      <td>3747.000000</td>\n",
       "      <td>3747.000000</td>\n",
       "    </tr>\n",
       "  </tbody>\n",
       "</table>\n",
       "</div>"
      ],
      "text/plain": [
       "           anime_id        rating\n",
       "count  69600.000000  69600.000000\n",
       "mean      91.052313     91.052313\n",
       "std      135.764253    135.764253\n",
       "min        1.000000      1.000000\n",
       "25%       13.000000     13.000000\n",
       "50%       45.000000     45.000000\n",
       "75%      114.000000    114.000000\n",
       "max     3747.000000   3747.000000"
      ]
     },
     "execution_count": 102,
     "metadata": {},
     "output_type": "execute_result"
    }
   ],
   "source": [
    "rating_groupby_user.describe()"
   ]
  },
  {
   "cell_type": "code",
   "execution_count": 103,
   "id": "fcf70828-25b4-43ea-b75e-ced63089e852",
   "metadata": {},
   "outputs": [
    {
     "name": "stdout",
     "output_type": "stream",
     "text": [
      "{'Drama': 2016, 'Romance': 1464, 'School': 1220, 'Supernatural': 1037, 'Action': 2845, 'Adventure': 2348, 'Fantasy': 2309, 'Magic': 778, 'Military': 426, 'Shounen': 1712, 'Comedy': 4645, 'Historical': 806, 'Parody': 408, 'Samurai': 148, 'Sci-Fi': 2070, 'Thriller': 87, 'Sports': 543, 'Super Power': 465, 'Space': 381, 'Slice of Life': 1220, 'Mecha': 944, 'Music': 860, 'Mystery': 495, 'Seinen': 547, 'Martial Arts': 265, 'Vampire': 102, 'Shoujo': 603, 'Horror': 369, 'Police': 197, 'Psychological': 229, 'Demons': 294, 'Ecchi': 637, 'Josei': 54, 'Shounen Ai': 65, 'Game': 181, 'Dementia': 240, 'Harem': 317, 'Cars': 72, 'Kids': 1609, 'Shoujo Ai': 55, 'Hentai': 1141, 'Yaoi': 39, 'Yuri': 42}\n"
     ]
    }
   ],
   "source": [
    "genres = {}   ## dictionary\n",
    "### 3.3 动漫类型分布 => dict\n",
    "for (index, row) in anime_df.iterrows():\n",
    "    try:\n",
    "        anime_genres = [g.strip() for g in row['genre'].split(',')]\n",
    "        for genre in anime_genres:\n",
    "            if genre not in genres:\n",
    "                genres[genre] = 0\n",
    "            genres[genre] += 1\n",
    "    except:\n",
    "        pass\n",
    "    \n",
    "print(genres)"
   ]
  },
  {
   "cell_type": "code",
   "execution_count": 104,
   "id": "75093498-8714-47f3-be27-14c786d7e11b",
   "metadata": {},
   "outputs": [
    {
     "name": "stdout",
     "output_type": "stream",
     "text": [
      "<class 'dict_items'>\n"
     ]
    },
    {
     "data": {
      "image/png": "[encoded data removed]",
      "text/plain": [
       "<Figure size 2000x1000 with 1 Axes>"
      ]
     },
     "metadata": {},
     "output_type": "display_data"
    }
   ],
   "source": [
    "import matplotlib.pyplot as plt\n",
    "\n",
    "fig = plt.figure(figsize=(20, 10))\n",
    "ax = fig.add_axes([0, 0, 1, 1])\n",
    "tuples = sorted(genres.items(), key=lambda x: x[1])\n",
    "print(type(genres.items()))    ## dict_items\n",
    "\n",
    "labels = [t[0] for t in tuples]\n",
    "values = [t[1] for t in tuples]\n",
    "ax.bar(labels, values)\n",
    "plt.xticks(rotation=70, fontsize=15)\n",
    "plt.show()"
   ]
  },
  {
   "cell_type": "code",
   "execution_count": 127,
   "id": "c29c7334-038e-4a2c-a7f3-0d60793d35f1",
   "metadata": {},
   "outputs": [
    {
     "data": {
      "text/html": [
       "<div>\n",
       "<style scoped>\n",
       "    .dataframe tbody tr th:only-of-type {\n",
       "        vertical-align: middle;\n",
       "    }\n",
       "\n",
       "    .dataframe tbody tr th {\n",
       "        vertical-align: top;\n",
       "    }\n",
       "\n",
       "    .dataframe thead th {\n",
       "        text-align: right;\n",
       "    }\n",
       "</style>\n",
       "<table border=\"1\" class=\"dataframe\">\n",
       "  <thead>\n",
       "    <tr style=\"text-align: right;\">\n",
       "      <th></th>\n",
       "      <th>count</th>\n",
       "      <th>mean</th>\n",
       "    </tr>\n",
       "    <tr>\n",
       "      <th>anime_id</th>\n",
       "      <th></th>\n",
       "      <th></th>\n",
       "    </tr>\n",
       "  </thead>\n",
       "  <tbody>\n",
       "    <tr>\n",
       "      <th>1</th>\n",
       "      <td>13449</td>\n",
       "      <td>8.869433</td>\n",
       "    </tr>\n",
       "    <tr>\n",
       "      <th>5</th>\n",
       "      <td>5790</td>\n",
       "      <td>8.439724</td>\n",
       "    </tr>\n",
       "    <tr>\n",
       "      <th>6</th>\n",
       "      <td>9385</td>\n",
       "      <td>8.419393</td>\n",
       "    </tr>\n",
       "    <tr>\n",
       "      <th>7</th>\n",
       "      <td>2169</td>\n",
       "      <td>7.533426</td>\n",
       "    </tr>\n",
       "    <tr>\n",
       "      <th>8</th>\n",
       "      <td>308</td>\n",
       "      <td>7.198052</td>\n",
       "    </tr>\n",
       "    <tr>\n",
       "      <th>...</th>\n",
       "      <td>...</td>\n",
       "      <td>...</td>\n",
       "    </tr>\n",
       "    <tr>\n",
       "      <th>34324</th>\n",
       "      <td>11</td>\n",
       "      <td>5.909091</td>\n",
       "    </tr>\n",
       "    <tr>\n",
       "      <th>34325</th>\n",
       "      <td>15</td>\n",
       "      <td>7.333333</td>\n",
       "    </tr>\n",
       "    <tr>\n",
       "      <th>34349</th>\n",
       "      <td>3</td>\n",
       "      <td>7.000000</td>\n",
       "    </tr>\n",
       "    <tr>\n",
       "      <th>34367</th>\n",
       "      <td>4</td>\n",
       "      <td>5.250000</td>\n",
       "    </tr>\n",
       "    <tr>\n",
       "      <th>34475</th>\n",
       "      <td>3</td>\n",
       "      <td>6.666667</td>\n",
       "    </tr>\n",
       "  </tbody>\n",
       "</table>\n",
       "<p>9927 rows × 2 columns</p>\n",
       "</div>"
      ],
      "text/plain": [
       "          count      mean\n",
       "anime_id                 \n",
       "1         13449  8.869433\n",
       "5          5790  8.439724\n",
       "6          9385  8.419393\n",
       "7          2169  7.533426\n",
       "8           308  7.198052\n",
       "...         ...       ...\n",
       "34324        11  5.909091\n",
       "34325        15  7.333333\n",
       "34349         3  7.000000\n",
       "34367         4  5.250000\n",
       "34475         3  6.666667\n",
       "\n",
       "[9927 rows x 2 columns]"
      ]
     },
     "execution_count": 127,
     "metadata": {},
     "output_type": "execute_result"
    }
   ],
   "source": [
    "# 4. 评分前几名的动漫\n",
    "groupby_df = valid_rating_df.groupby(['anime_id']).agg({\n",
    "        'rating': ['count', 'mean']\n",
    "    }).droplevel(axis=1, level=0)\n",
    "groupby_df                             "
   ]
  },
  {
   "cell_type": "code",
   "execution_count": 123,
   "id": "eb79a17c-aa15-4f95-b393-a68e3ce07106",
   "metadata": {},
   "outputs": [
    {
     "data": {
      "text/plain": [
       "<Axes: xlabel='count', ylabel='mean'>"
      ]
     },
     "execution_count": 123,
     "metadata": {},
     "output_type": "execute_result"
    },
    {
     "data": {
      "image/png": "[encoded data removed]",
      "text/plain": [
       "<Figure size 1200x800 with 1 Axes>"
      ]
     },
     "metadata": {},
     "output_type": "display_data"
    }
   ],
   "source": [
    "# 5. 评分数量和评分高低的关系\n",
    "groupby_df.plot.scatter(x='count', y='mean', grid=True, figsize=[12, 8])"
   ]
  },
  {
   "cell_type": "code",
   "execution_count": null,
   "id": "8074d004-712e-4b5f-af51-3e8662df1893",
   "metadata": {},
   "outputs": [],
   "source": []
  },
  {
   "cell_type": "code",
   "execution_count": null,
   "id": "070920e8-3887-41f7-97c3-e54b9a4ff624",
   "metadata": {},
   "outputs": [],
   "source": []
  },
  {
   "cell_type": "code",
   "execution_count": null,
   "id": "a9e8818a-fe9f-4ec0-84bc-d0af3736cecd",
   "metadata": {},
   "outputs": [],
   "source": []
  },
  {
   "cell_type": "code",
   "execution_count": null,
   "id": "af7f7a17-b660-4f22-b1cd-673524325899",
   "metadata": {},
   "outputs": [],
   "source": []
  }
 ],
 "metadata": {
  "kernelspec": {
   "display_name": "Python 3 (ipykernel)",
   "language": "python",
   "name": "python3"
  },
  "language_info": {
   "codemirror_mode": {
    "name": "ipython",
    "version": 3
   },
   "file_extension": ".py",
   "mimetype": "text/x-python",
   "name": "python",
   "nbconvert_exporter": "python",
   "pygments_lexer": "ipython3",
   "version": "3.12.4"
  }
 },
 "nbformat": 4,
 "nbformat_minor": 5
}
